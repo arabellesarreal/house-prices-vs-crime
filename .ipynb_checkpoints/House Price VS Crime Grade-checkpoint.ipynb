{
 "cells": [
  {
   "cell_type": "code",
   "execution_count": 1,
   "id": "b3ebd7d4",
   "metadata": {},
   "outputs": [],
   "source": [
    "import pandas as pd\n",
    "import matplotlib.pyplot as plt\n",
    "import seaborn as sns\n",
    "import numpy as np"
   ]
  },
  {
   "cell_type": "markdown",
   "id": "67522734",
   "metadata": {},
   "source": [
    "- Importing pandas, matplotlib, seaborn, and numpy"
   ]
  },
  {
   "cell_type": "markdown",
   "id": "cd8c2a4e",
   "metadata": {},
   "source": [
    "# Data Cleaning"
   ]
  },
  {
   "cell_type": "code",
   "execution_count": 2,
   "id": "610b5fce",
   "metadata": {},
   "outputs": [],
   "source": [
    "cg = pd.read_csv(\"CrimeGradeV3.csv\")\n",
    "cg = cg.drop_duplicates()\n",
    "cg['zipcode'] = cg['zipcode'].astype(int)\n",
    "cg['overall'] = cg['overall'].astype(int)\n",
    "cg['property'] = cg['property'].astype(int)\n",
    "cg['violent'] = cg['violent'].astype(int)\n",
    "cg['other'] = cg['other'].astype(int)\n",
    "cg.info()"
   ]
  },
  {
   "cell_type": "markdown",
   "id": "63adcc36",
   "metadata": {},
   "source": [
    "- Changing data types to integers"
   ]
  },
  {
   "cell_type": "code",
   "execution_count": 3,
   "id": "e54e0556",
   "metadata": {},
   "outputs": [],
   "source": [
    "hp = pd.read_csv(\"HousePricesV3.csv\")\n",
    "hp = hp.drop_duplicates()\n",
    "hp = hp.drop('address', axis=1)\n",
    "hp['price'] = hp['price'].astype(int)\n",
    "hp['zipcode'] = hp['zipcode'].astype(int)\n",
    "hp.info()\n",
    "hp.head()"
   ]
  },
  {
   "cell_type": "markdown",
   "id": "fd264265",
   "metadata": {},
   "source": [
    "- Changing data types to integers\n",
    "- Dropping the Address column as it is unecessary for analysis"
   ]
  },
  {
   "cell_type": "code",
   "execution_count": 4,
   "id": "608bdddd",
   "metadata": {},
   "outputs": [],
   "source": [
    "zcd = pd.read_csv(\"zip_code_database - Sheet2.csv\")\n",
    "zcd = zcd.drop(columns = ['type','decommissioned','primary_city','acceptable_cities','unacceptable_cities','state','county','timezone','area_codes','world_region','country','latitude','longitude'])\n",
    "zcd.rename(columns = {'zip':'zipcode'}, inplace = True)\n",
    "zcd['zipcode'] = zcd['zipcode'].astype(int)\n",
    "zcd.info()"
   ]
  },
  {
   "cell_type": "markdown",
   "id": "38621850",
   "metadata": {},
   "source": [
    "- Renaming columns zip to zipcode\n",
    "- Changing zip column to type int"
   ]
  },
  {
   "cell_type": "code",
   "execution_count": 5,
   "id": "2d3d67c9",
   "metadata": {
    "scrolled": true
   },
   "outputs": [],
   "source": [
    "grouped = hp.groupby('zipcode')['price'].mean().reset_index()\n",
    "pd.options.display.float_format = '{:.0f}'.format\n",
    "grouped.head()"
   ]
  },
  {
   "cell_type": "markdown",
   "id": "5982a230",
   "metadata": {},
   "source": [
    "- Group by zipcode and price mean to create a table of zipcode and price."
   ]
  },
  {
   "cell_type": "code",
   "execution_count": 6,
   "id": "9c9374df",
   "metadata": {
    "scrolled": true
   },
   "outputs": [],
   "source": [
    "mergedData = grouped.merge(cg, left_on = 'zipcode', right_on ='zipcode')\n",
    "mergedData.head()"
   ]
  },
  {
   "cell_type": "markdown",
   "id": "4951c702",
   "metadata": {},
   "source": [
    "- Merging grouped table and crime grade table on column zipcode"
   ]
  },
  {
   "cell_type": "markdown",
   "id": "47b87d4d",
   "metadata": {},
   "source": [
    "# Checking for Outliers"
   ]
  },
  {
   "cell_type": "code",
   "execution_count": 7,
   "id": "57ff6981",
   "metadata": {},
   "outputs": [],
   "source": [
    "sns.boxplot(data = cg['overall'])"
   ]
  },
  {
   "cell_type": "markdown",
   "id": "a26807da",
   "metadata": {},
   "source": [
    "### Observations:\n",
    "- There is an outlier here but, it is within the correct range and is a result of my lack of data."
   ]
  },
  {
   "cell_type": "code",
   "execution_count": 8,
   "id": "15ba6372",
   "metadata": {},
   "outputs": [],
   "source": [
    "sns.boxplot(data = cg['violent'])"
   ]
  },
  {
   "cell_type": "markdown",
   "id": "9c546f16",
   "metadata": {},
   "source": [
    "### Observations:\n",
    "- There is an outlier here but, it is within the correct range and is a result of my lack of data."
   ]
  },
  {
   "cell_type": "code",
   "execution_count": 9,
   "id": "ab192747",
   "metadata": {},
   "outputs": [],
   "source": [
    "sns.boxplot(data = cg['property'])"
   ]
  },
  {
   "cell_type": "markdown",
   "id": "bd9f5ae9",
   "metadata": {},
   "source": [
    "### Observations:\n",
    "- No outliers"
   ]
  },
  {
   "cell_type": "code",
   "execution_count": 10,
   "id": "6e844b73",
   "metadata": {},
   "outputs": [],
   "source": [
    "sns.boxplot(data = cg['other'])"
   ]
  },
  {
   "cell_type": "markdown",
   "id": "7434828f",
   "metadata": {},
   "source": [
    "### Observations:\n",
    "- No outliers"
   ]
  },
  {
   "cell_type": "code",
   "execution_count": 11,
   "id": "d7fe017b",
   "metadata": {},
   "outputs": [],
   "source": [
    "sns.boxplot(data = hp['price'])"
   ]
  },
  {
   "cell_type": "markdown",
   "id": "8fa4ad44",
   "metadata": {},
   "source": [
    "### Observations:\n",
    "- Seems to contain outliers but, are necessary to keep as data set is too small to afford removal"
   ]
  },
  {
   "cell_type": "code",
   "execution_count": 15,
   "id": "0d83106a",
   "metadata": {},
   "outputs": [],
   "source": [
    "from scipy.stats import zscore\n",
    "mergedData['price_zscore'] = zscore(mergedData['price'])\n",
    "mergedData.head()"
   ]
  },
  {
   "cell_type": "markdown",
   "id": "28552672",
   "metadata": {},
   "source": [
    "### Observations:\n",
    "- No z-scores are -3 or 3"
   ]
  },
  {
   "cell_type": "markdown",
   "id": "700ebe23",
   "metadata": {},
   "source": [
    "# Exploratory Data Analysis"
   ]
  },
  {
   "cell_type": "code",
   "execution_count": 16,
   "id": "0f58e42c",
   "metadata": {
    "scrolled": false
   },
   "outputs": [],
   "source": [
    "sns.pairplot(mergedData)"
   ]
  },
  {
   "cell_type": "markdown",
   "id": "f762c4d8",
   "metadata": {},
   "source": [
    "### Observations:\n",
    "- Data is all over the place but, seems to lean towards an upward trend."
   ]
  },
  {
   "cell_type": "code",
   "execution_count": 17,
   "id": "5e531e07",
   "metadata": {},
   "outputs": [],
   "source": [
    "sns.lineplot(data=mergedData, x=\"overall\", y=\"price\")"
   ]
  },
  {
   "cell_type": "markdown",
   "id": "6651e7ea",
   "metadata": {},
   "source": [
    "### Observations:\n",
    "- Data up and down but ends on an upward trend"
   ]
  },
  {
   "cell_type": "code",
   "execution_count": 18,
   "id": "24804fba",
   "metadata": {},
   "outputs": [],
   "source": [
    "sns.lineplot(data=mergedData, x=\"violent\", y=\"price\")"
   ]
  },
  {
   "cell_type": "markdown",
   "id": "a5b84ce6",
   "metadata": {},
   "source": [
    "### Observations:\n",
    "- Data dips slightly but, is mostly on a positive trend"
   ]
  },
  {
   "cell_type": "code",
   "execution_count": 19,
   "id": "e62fcd9c",
   "metadata": {},
   "outputs": [],
   "source": [
    "sns.lineplot(data=mergedData, x=\"property\", y=\"price\")"
   ]
  },
  {
   "cell_type": "markdown",
   "id": "8932b181",
   "metadata": {},
   "source": [
    "### Observations:\n",
    "- Data is up and down but ends on an upward trend especially towards the end"
   ]
  },
  {
   "cell_type": "code",
   "execution_count": 20,
   "id": "6c5934b4",
   "metadata": {},
   "outputs": [],
   "source": [
    "sns.lineplot(data=mergedData, x=\"other\", y=\"price\")"
   ]
  },
  {
   "cell_type": "markdown",
   "id": "9c27f2ea",
   "metadata": {},
   "source": [
    "### Observations:\n",
    "- Data is more sporadic but, ends on an upward trend"
   ]
  },
  {
   "cell_type": "code",
   "execution_count": 21,
   "id": "beb418f5",
   "metadata": {},
   "outputs": [],
   "source": [
    "from scipy.stats import pearsonr \n",
    "from scipy.stats import spearmanr "
   ]
  },
  {
   "cell_type": "code",
   "execution_count": 23,
   "id": "a0bb4516",
   "metadata": {},
   "outputs": [],
   "source": [
    "spearmanr(mergedData['price'], mergedData['overall'])"
   ]
  },
  {
   "cell_type": "code",
   "execution_count": null,
   "id": "63bea642",
   "metadata": {},
   "outputs": [],
   "source": [
    "mergedData.corr()"
   ]
  },
  {
   "cell_type": "code",
   "execution_count": null,
   "id": "58bd064d",
   "metadata": {
    "scrolled": true
   },
   "outputs": [],
   "source": [
    "spearmanr(mergedData['price'], mergedData['overall'])"
   ]
  },
  {
   "cell_type": "markdown",
   "id": "18424365",
   "metadata": {},
   "source": [
    "- P-value is extremely high so any correlation between price and overall crime is by chance"
   ]
  },
  {
   "cell_type": "code",
   "execution_count": null,
   "id": "786448a8",
   "metadata": {},
   "outputs": [],
   "source": [
    "spearmanr(mergedData['price'], mergedData['violent'])"
   ]
  },
  {
   "cell_type": "markdown",
   "id": "93bf52b3",
   "metadata": {},
   "source": [
    "- Contains a p-value below 0.05 therefore this relationship rejects the null hypothesis"
   ]
  },
  {
   "cell_type": "code",
   "execution_count": null,
   "id": "ec2687b1",
   "metadata": {},
   "outputs": [],
   "source": [
    "spearmanr(mergedData['price'], mergedData['property'])"
   ]
  },
  {
   "cell_type": "markdown",
   "id": "d00c516d",
   "metadata": {},
   "source": [
    "- P-value is extremely high so any correlation between price and property crime is by chance"
   ]
  },
  {
   "cell_type": "code",
   "execution_count": null,
   "id": "aee90635",
   "metadata": {},
   "outputs": [],
   "source": [
    "spearmanr(mergedData['price'], mergedData['other'])"
   ]
  },
  {
   "cell_type": "markdown",
   "id": "ba3a7e91",
   "metadata": {},
   "source": [
    "- P-value is extremely high so any correlation between price and other crime is by chance"
   ]
  },
  {
   "cell_type": "markdown",
   "id": "fd6459aa",
   "metadata": {},
   "source": [
    "# Linear Regression"
   ]
  },
  {
   "cell_type": "code",
   "execution_count": null,
   "id": "63c8ad5f",
   "metadata": {},
   "outputs": [],
   "source": [
    "import statsmodels.api as sm\n",
    "\n",
    "# sets X to violent\n",
    "\n",
    "x = mergedData['violent']\n",
    "\n",
    "# sets Y to price\n",
    "\n",
    "y = mergedData['price']"
   ]
  },
  {
   "cell_type": "code",
   "execution_count": null,
   "id": "635157a6",
   "metadata": {},
   "outputs": [],
   "source": [
    "plt.scatter(x, y)\n",
    "plt.xlabel('Violent Crime')\n",
    "plt.ylabel('Price');"
   ]
  },
  {
   "cell_type": "code",
   "execution_count": null,
   "id": "75b27ac7",
   "metadata": {},
   "outputs": [],
   "source": [
    "x = sm.add_constant(x)\n",
    "results = sm.OLS(y,x).fit()\n",
    "results.summary()"
   ]
  },
  {
   "cell_type": "markdown",
   "id": "a7032e46",
   "metadata": {},
   "source": [
    "Interpret the following from your model:\n",
    "\n",
    "- R-squared = 0.246 25 percent accurate\n",
    "- Coefficient of independent variable = 4.57e+04 increases by 45700 for every single unit increase of price\n",
    "- P-value of T-statistic 0.00 We reject the null hypothesis as this is lower than 0.05\n",
    "- P-value of F-statistic 0.00 "
   ]
  },
  {
   "cell_type": "code",
   "execution_count": null,
   "id": "fc005ff2",
   "metadata": {},
   "outputs": [],
   "source": [
    "new_df = pd.DataFrame({'constant':1, 'violent':[ 1, 3, 5, 7, 11, 15]})\n",
    "new_df"
   ]
  },
  {
   "cell_type": "code",
   "execution_count": null,
   "id": "3c6025b5",
   "metadata": {},
   "outputs": [],
   "source": [
    "predictions = results.predict(new_df)\n",
    "predictions"
   ]
  },
  {
   "cell_type": "code",
   "execution_count": null,
   "id": "4f53557f",
   "metadata": {},
   "outputs": [],
   "source": [
    "new_df['price_predictions'] = results.predict(new_df)\n",
    "new_df"
   ]
  },
  {
   "cell_type": "code",
   "execution_count": null,
   "id": "6ba9f71f",
   "metadata": {},
   "outputs": [],
   "source": []
  },
  {
   "cell_type": "code",
   "execution_count": null,
   "id": "6f4a4bde",
   "metadata": {},
   "outputs": [],
   "source": []
  }
 ],
 "metadata": {
  "kernelspec": {
   "display_name": "Python 3 (ipykernel)",
   "language": "python",
   "name": "python3"
  },
  "language_info": {
   "codemirror_mode": {
    "name": "ipython",
    "version": 3
   },
   "file_extension": ".py",
   "mimetype": "text/x-python",
   "name": "python",
   "nbconvert_exporter": "python",
   "pygments_lexer": "ipython3",
   "version": "3.9.16"
  }
 },
 "nbformat": 4,
 "nbformat_minor": 5
}
